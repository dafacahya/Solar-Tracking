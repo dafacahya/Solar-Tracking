{
 "cells": [
  {
   "cell_type": "code",
   "execution_count": 5,
   "metadata": {},
   "outputs": [],
   "source": [
    "import pandas as pd\n",
    "from suncalc import get_position, get_times\n",
    "from datetime import datetime"
   ]
  },
  {
   "cell_type": "code",
   "execution_count": 6,
   "metadata": {},
   "outputs": [],
   "source": [
    "date_time= pd.date_range(start='2015-01-01', end='2022-12-31', freq='5min', tz='Asia/Jakarta')\n",
    "date=pd.date_range(start='2015-01-01', end='2022-12-31', freq='5min', tz='Asia/Jakarta')\n",
    "lon = 112.59862\n",
    "lat = -7.92251\n",
    "sun  = get_position(date, lon, lat)"
   ]
  },
  {
   "cell_type": "code",
   "execution_count": 7,
   "metadata": {},
   "outputs": [
    {
     "data": {
      "text/plain": [
       "<bound method NDFrame.head of                             azimuth  altitude\n",
       "2015-01-01 00:00:00+07:00 -0.204978 -1.017720\n",
       "2015-01-01 00:05:00+07:00 -0.241928 -1.012937\n",
       "2015-01-01 00:10:00+07:00 -0.278188 -1.007385\n",
       "2015-01-01 00:15:00+07:00 -0.313681 -1.001089\n",
       "2015-01-01 00:20:00+07:00 -0.348340 -0.994072\n",
       "...                             ...       ...\n",
       "2022-12-30 23:40:00+07:00 -0.058157 -1.027317\n",
       "2022-12-30 23:45:00+07:00 -0.096747 -1.025649\n",
       "2022-12-30 23:50:00+07:00 -0.135038 -1.023155\n",
       "2022-12-30 23:55:00+07:00 -0.172919 -1.019845\n",
       "2022-12-31 00:00:00+07:00 -0.210285 -1.015735\n",
       "\n",
       "[841249 rows x 2 columns]>"
      ]
     },
     "execution_count": 7,
     "metadata": {},
     "output_type": "execute_result"
    }
   ],
   "source": [
    "df=pd.DataFrame(get_position(date, lon, lat), pd.date_range(start='2015-01-01', end='2022-12-31', freq='5min', tz='Asia/Jakarta'))\n",
    "df.head\n"
   ]
  }
 ],
 "metadata": {
  "kernelspec": {
   "display_name": "Python 3",
   "language": "python",
   "name": "python3"
  },
  "language_info": {
   "codemirror_mode": {
    "name": "ipython",
    "version": 3
   },
   "file_extension": ".py",
   "mimetype": "text/x-python",
   "name": "python",
   "nbconvert_exporter": "python",
   "pygments_lexer": "ipython3",
   "version": "3.10.11"
  }
 },
 "nbformat": 4,
 "nbformat_minor": 2
}
