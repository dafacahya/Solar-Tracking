{
 "cells": [
  {
   "cell_type": "code",
   "execution_count": 36,
   "metadata": {},
   "outputs": [],
   "source": [
    "from suncalc import get_position\n",
    "import datetime\n",
    "import math"
   ]
  },
  {
   "cell_type": "code",
   "execution_count": 37,
   "metadata": {},
   "outputs": [],
   "source": [
    "latitude = -7.92712\n",
    "longitude = 112.63312"
   ]
  },
  {
   "cell_type": "code",
   "execution_count": 38,
   "metadata": {},
   "outputs": [],
   "source": [
    "date_and_time = datetime.datetime(2023, 10, 14, 13, 0)"
   ]
  },
  {
   "cell_type": "code",
   "execution_count": 39,
   "metadata": {},
   "outputs": [],
   "source": [
    "position = get_position(date_and_time, latitude, longitude)\n",
    "\n",
    "azimuth = position['azimuth'] \n",
    "altitude = position['altitude']"
   ]
  },
  {
   "cell_type": "code",
   "execution_count": 40,
   "metadata": {},
   "outputs": [],
   "source": [
    "azimuth_degrees = math.degrees(azimuth)\n",
    "altitude_degrees = math.degrees(altitude)"
   ]
  },
  {
   "cell_type": "code",
   "execution_count": 41,
   "metadata": {},
   "outputs": [
    {
     "name": "stdout",
     "output_type": "stream",
     "text": [
      "Sun Azimuth (degrees): -97.28\n",
      "Sun Altitude (degrees): -5.54\n"
     ]
    }
   ],
   "source": [
    "print(f\"Sun Azimuth (degrees): {azimuth_degrees:.2f}\")\n",
    "print(f\"Sun Altitude (degrees): {altitude_degrees:.2f}\")"
   ]
  }
 ],
 "metadata": {
  "kernelspec": {
   "display_name": "Python 3",
   "language": "python",
   "name": "python3"
  },
  "language_info": {
   "codemirror_mode": {
    "name": "ipython",
    "version": 3
   },
   "file_extension": ".py",
   "mimetype": "text/x-python",
   "name": "python",
   "nbconvert_exporter": "python",
   "pygments_lexer": "ipython3",
   "version": "3.10.11"
  }
 },
 "nbformat": 4,
 "nbformat_minor": 2
}
