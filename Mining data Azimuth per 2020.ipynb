{
 "cells": [
  {
   "cell_type": "code",
   "execution_count": 4,
   "metadata": {},
   "outputs": [],
   "source": [
    "import pandas as pd\n",
    "from suncalc import get_position"
   ]
  },
  {
   "cell_type": "code",
   "execution_count": 5,
   "metadata": {},
   "outputs": [],
   "source": [
    "data = {\n",
    "    'Datetime': pd.date_range(start='2020-01-01', end='2020-12-31', freq='5min', tz='Asia/Jakarta'),\n",
    "    'Latitude': -7.92251, \n",
    "    'Longitude': 112.59862,  \n",
    "}\n",
    "df = pd.DataFrame(data)"
   ]
  },
  {
   "cell_type": "code",
   "execution_count": 6,
   "metadata": {},
   "outputs": [],
   "source": [
    "def calculate_position(row):\n",
    "    datetime = row['Datetime']\n",
    "    latitude = row['Latitude']\n",
    "    longitude = row['Longitude']\n",
    "    position = get_position(datetime, latitude, longitude)\n",
    "    azimuth = position['azimuth']\n",
    "    altitude = position['altitude']\n",
    "    return azimuth, altitude\n"
   ]
  },
  {
   "cell_type": "code",
   "execution_count": 7,
   "metadata": {},
   "outputs": [
    {
     "data": {
      "text/plain": [
       "<bound method NDFrame.head of                         Datetime  Latitude  Longitude   Azimuth  Altitude\n",
       "0      2020-01-01 00:00:00+07:00  -7.92251  112.59862  1.347187 -0.529131\n",
       "1      2020-01-01 00:05:00+07:00  -7.92251  112.59862  1.368346 -0.520936\n",
       "2      2020-01-01 00:10:00+07:00  -7.92251  112.59862  1.389387 -0.512705\n",
       "3      2020-01-01 00:15:00+07:00  -7.92251  112.59862  1.410315 -0.504443\n",
       "4      2020-01-01 00:20:00+07:00  -7.92251  112.59862  1.431133 -0.496153\n",
       "...                          ...       ...        ...       ...       ...\n",
       "105116 2020-12-30 23:40:00+07:00  -7.92251  112.59862  1.262132 -0.561519\n",
       "105117 2020-12-30 23:45:00+07:00  -7.92251  112.59862  1.283798 -0.553503\n",
       "105118 2020-12-30 23:50:00+07:00  -7.92251  112.59862  1.305331 -0.545437\n",
       "105119 2020-12-30 23:55:00+07:00  -7.92251  112.59862  1.326733 -0.537323\n",
       "105120 2020-12-31 00:00:00+07:00  -7.92251  112.59862  1.348011 -0.529165\n",
       "\n",
       "[105121 rows x 5 columns]>"
      ]
     },
     "execution_count": 7,
     "metadata": {},
     "output_type": "execute_result"
    }
   ],
   "source": [
    "df['Azimuth'], df['Altitude'] = zip(*df.apply(calculate_position, axis=1))\n",
    "df.head\n",
    "##df.to_csv(\"Data 2020 Azimuth and Altitude.csv\", sep=';')"
   ]
  }
 ],
 "metadata": {
  "kernelspec": {
   "display_name": "Python 3",
   "language": "python",
   "name": "python3"
  },
  "language_info": {
   "codemirror_mode": {
    "name": "ipython",
    "version": 3
   },
   "file_extension": ".py",
   "mimetype": "text/x-python",
   "name": "python",
   "nbconvert_exporter": "python",
   "pygments_lexer": "ipython3",
   "version": "3.10.11"
  }
 },
 "nbformat": 4,
 "nbformat_minor": 2
}
