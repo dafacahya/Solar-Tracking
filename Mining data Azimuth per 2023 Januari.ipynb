{
 "cells": [
  {
   "cell_type": "code",
   "execution_count": 1,
   "metadata": {},
   "outputs": [],
   "source": [
    "import pandas as pd \n",
    "from suncalc import get_position\n",
    "import math"
   ]
  },
  {
   "cell_type": "code",
   "execution_count": 2,
   "metadata": {},
   "outputs": [],
   "source": [
    "data = {\n",
    "    'Datetime': pd.date_range(start='2023-01-01', end='2023-01-31', freq='5min', tz='Asia/Jakarta'),\n",
    "    'Latitude': -7.92710,\n",
    "    'Longitude': 112.63310,\n",
    "}\n",
    "df=pd.DataFrame(data)"
   ]
  },
  {
   "cell_type": "code",
   "execution_count": 3,
   "metadata": {},
   "outputs": [],
   "source": [
    "def calculate_position(row):\n",
    "    datetime=row['Datetime']\n",
    "    latitude=row['Latitude']\n",
    "    longitude=row['Longitude']\n",
    "    positon = get_position(datetime, latitude, longitude)\n",
    "    azimuth = math.degrees(positon['azimuth'])\n",
    "    altitude = math.degrees(positon['altitude'])\n",
    "    return azimuth, altitude"
   ]
  },
  {
   "cell_type": "code",
   "execution_count": 4,
   "metadata": {},
   "outputs": [],
   "source": [
    "df['Azimuth'], df['Altitude'] = zip(*df.apply(calculate_position, axis=1))\n",
    "df.head\n",
    "df.to_csv(\"Data 2023 Januari Azimuth and Altitude.csv\")"
   ]
  }
 ],
 "metadata": {
  "kernelspec": {
   "display_name": "Python 3",
   "language": "python",
   "name": "python3"
  },
  "language_info": {
   "codemirror_mode": {
    "name": "ipython",
    "version": 3
   },
   "file_extension": ".py",
   "mimetype": "text/x-python",
   "name": "python",
   "nbconvert_exporter": "python",
   "pygments_lexer": "ipython3",
   "version": "3.10.11"
  }
 },
 "nbformat": 4,
 "nbformat_minor": 2
}
