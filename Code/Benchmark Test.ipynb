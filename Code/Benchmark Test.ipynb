{
 "cells": [
  {
   "cell_type": "code",
   "execution_count": 1,
   "metadata": {},
   "outputs": [],
   "source": [
    "from suncalc import get_position, get_times\n",
    "import pandas as pd\n",
    "import numpy as np\n",
    "\n",
    "lon = 112.59862\n",
    "lat = -7.92251\n",
    "def random_dates(start, end, n=10):\n",
    "    \"\"\"Create an array of random dates\"\"\"\n",
    "    start_u = start.value//10**9\n",
    "    end_u = end.value//10**9\n",
    "    return pd.to_datetime(np.random.randint(start_u, end_u, n), unit='s')\n",
    "\n",
    "start = pd.to_datetime('2020-01-01')\n",
    "end = pd.to_datetime('2023-01-01')\n",
    "dates = random_dates(start, end, n=100_000)\n",
    "\n",
    "lons = np.random.uniform(low=-179, high=179, size=(100_000,))\n",
    "lats = np.random.uniform(low=-89, high=89, size=(100_000,))\n",
    "\n",
    "df = pd.DataFrame({'date': dates, 'lat': lats, 'lon': lons})\n",
    "df.to_csv(\"Azimuth.csv\")"
   ]
  },
  {
   "cell_type": "code",
   "execution_count": 2,
   "metadata": {},
   "outputs": [
    {
     "name": "stdout",
     "output_type": "stream",
     "text": [
      "48.5 ms ± 811 µs per loop (mean ± std. dev. of 7 runs, 10 loops each)\n",
      "4.22 s ± 219 ms per loop (mean ± std. dev. of 7 runs, 1 loop each)\n"
     ]
    },
    {
     "name": "stderr",
     "output_type": "stream",
     "text": [
      "c:\\Users\\dafas\\AppData\\Local\\Programs\\Python\\Python310\\lib\\site-packages\\suncalc\\suncalc.py:202: RuntimeWarning: invalid value encountered in arccos\n",
      "  return acos((sin(h) - sin(phi) * sin(d)) / (cos(phi) * cos(d)))\n"
     ]
    },
    {
     "name": "stdout",
     "output_type": "stream",
     "text": [
      "77.1 ms ± 1.17 ms per loop (mean ± std. dev. of 7 runs, 10 loops each)\n"
     ]
    },
    {
     "name": "stderr",
     "output_type": "stream",
     "text": [
      "c:\\Users\\dafas\\AppData\\Local\\Programs\\Python\\Python310\\lib\\site-packages\\suncalc\\suncalc.py:202: RuntimeWarning: invalid value encountered in arccos\n",
      "  return acos((sin(h) - sin(phi) * sin(d)) / (cos(phi) * cos(d)))\n"
     ]
    },
    {
     "name": "stdout",
     "output_type": "stream",
     "text": [
      "CPU times: total: 3min 38s\n",
      "Wall time: 4min 4s\n"
     ]
    },
    {
     "data": {
      "text/plain": [
       "0        {'solar_noon': 2021-07-02 08:04:07.154939136, ...\n",
       "1        {'solar_noon': 2022-02-26 03:33:06.466352640, ...\n",
       "2        {'solar_noon': 2022-12-27 04:52:01.346041600, ...\n",
       "3        {'solar_noon': 2022-12-08 02:17:32.869378048, ...\n",
       "4        {'solar_noon': 2022-03-20 21:07:09.246957568, ...\n",
       "                               ...                        \n",
       "99995    {'solar_noon': 2020-06-03 08:35:30.090169600, ...\n",
       "99996    {'solar_noon': 2022-07-29 00:45:36.987005184, ...\n",
       "99997    {'solar_noon': 2022-11-15 19:34:58.970657536, ...\n",
       "99998    {'solar_noon': 2020-04-24 11:24:18.547564032, ...\n",
       "99999    {'solar_noon': 2021-03-30 04:02:51.908730112, ...\n",
       "Length: 100000, dtype: object"
      ]
     },
     "execution_count": 2,
     "metadata": {},
     "output_type": "execute_result"
    }
   ],
   "source": [
    "%timeit get_position(df['date'], df['lon'], df['lat'])\n",
    "\n",
    "%timeit df.apply(lambda row: get_position(row['date'], row['lon'], row['lat']), axis=1)\n",
    "\n",
    "%timeit get_times(df['date'], df['lon'], df['lat'])\n",
    "\n",
    "%time df.apply(lambda row: get_times(row['date'], row['lon'], row['lat']), axis=1)"
   ]
  }
 ],
 "metadata": {
  "kernelspec": {
   "display_name": "Python 3",
   "language": "python",
   "name": "python3"
  },
  "language_info": {
   "codemirror_mode": {
    "name": "ipython",
    "version": 3
   },
   "file_extension": ".py",
   "mimetype": "text/x-python",
   "name": "python",
   "nbconvert_exporter": "python",
   "pygments_lexer": "ipython3",
   "version": "3.10.11"
  }
 },
 "nbformat": 4,
 "nbformat_minor": 2
}
