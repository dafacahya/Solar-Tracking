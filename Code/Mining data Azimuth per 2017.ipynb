{
 "cells": [
  {
   "cell_type": "code",
   "execution_count": 1,
   "metadata": {},
   "outputs": [],
   "source": [
    "import pandas as pd\n",
    "from suncalc import get_position"
   ]
  },
  {
   "cell_type": "code",
   "execution_count": 2,
   "metadata": {},
   "outputs": [],
   "source": [
    "data = {\n",
    "    'Datetime': pd.date_range(start='2017-01-01', end='2017-12-31', freq='5min', tz='Asia/Jakarta'),\n",
    "    'Latitude': -7.92251, \n",
    "    'Longitude': 112.59862,  \n",
    "}\n",
    "df = pd.DataFrame(data)"
   ]
  },
  {
   "cell_type": "code",
   "execution_count": 3,
   "metadata": {},
   "outputs": [],
   "source": [
    "def calculate_position(row):\n",
    "    datetime = row['Datetime']\n",
    "    latitude = row['Latitude']\n",
    "    longitude = row['Longitude']\n",
    "    position = get_position(datetime, latitude, longitude)\n",
    "    azimuth = position['azimuth']\n",
    "    altitude = position['altitude']\n",
    "    return azimuth, altitude\n"
   ]
  },
  {
   "cell_type": "code",
   "execution_count": 5,
   "metadata": {},
   "outputs": [],
   "source": [
    "df['Azimuth'], df['Altitude'] = zip(*df.apply(calculate_position, axis=1))\n",
    "##df.head\n",
    "df.to_csv(\"Data 2017 Azimuth and Altitude.csv\", sep=';')"
   ]
  }
 ],
 "metadata": {
  "kernelspec": {
   "display_name": "Python 3",
   "language": "python",
   "name": "python3"
  },
  "language_info": {
   "codemirror_mode": {
    "name": "ipython",
    "version": 3
   },
   "file_extension": ".py",
   "mimetype": "text/x-python",
   "name": "python",
   "nbconvert_exporter": "python",
   "pygments_lexer": "ipython3",
   "version": "3.10.11"
  }
 },
 "nbformat": 4,
 "nbformat_minor": 2
}
