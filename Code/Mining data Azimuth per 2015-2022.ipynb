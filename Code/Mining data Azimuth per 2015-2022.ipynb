{
 "cells": [
  {
   "cell_type": "code",
   "execution_count": 13,
   "metadata": {},
   "outputs": [],
   "source": [
    "import pandas as pd\n",
    "from suncalc import get_position\n",
    "import math"
   ]
  },
  {
   "cell_type": "code",
   "execution_count": 14,
   "metadata": {},
   "outputs": [],
   "source": [
    "data = {\n",
    "    'Datetime': pd.date_range(start='2023-01-01', end='2023-10-14', freq='5min', tz='Asia/Jakarta'),\n",
    "    'Latitude': -7.92119, \n",
    "    'Longitude': 112.59926,  \n",
    "}\n",
    "df = pd.DataFrame(data)"
   ]
  },
  {
   "cell_type": "code",
   "execution_count": 15,
   "metadata": {},
   "outputs": [],
   "source": [
    "def calculate_position(row):\n",
    "    datetime = row['Datetime']\n",
    "    latitude = row['Latitude']\n",
    "    longitude = row['Longitude']\n",
    "    position = get_position(datetime, latitude, longitude)\n",
    "    azimuth_deg = math.degrees(position['azimuth'])\n",
    "    altitude_deg = math.degrees(position['altitude'])\n",
    "    return azimuth_deg, altitude_deg\n"
   ]
  },
  {
   "cell_type": "code",
   "execution_count": 16,
   "metadata": {},
   "outputs": [],
   "source": [
    "df['Azimuth_deg'], df['Altitude_deg'] = zip(*df.apply(calculate_position, axis=1))\n",
    "df.to_csv(\"Data 2023 to oktober Azimuth and Altitude degrees GKB3.csv\", sep=';')"
   ]
  }
 ],
 "metadata": {
  "kernelspec": {
   "display_name": "Python 3",
   "language": "python",
   "name": "python3"
  },
  "language_info": {
   "codemirror_mode": {
    "name": "ipython",
    "version": 3
   },
   "file_extension": ".py",
   "mimetype": "text/x-python",
   "name": "python",
   "nbconvert_exporter": "python",
   "pygments_lexer": "ipython3",
   "version": "3.10.11"
  }
 },
 "nbformat": 4,
 "nbformat_minor": 2
}
