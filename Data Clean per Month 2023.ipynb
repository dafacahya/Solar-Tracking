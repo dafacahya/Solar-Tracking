{
 "cells": [
  {
   "cell_type": "code",
   "execution_count": 13,
   "metadata": {},
   "outputs": [],
   "source": [
    "import pandas as pd \n"
   ]
  },
  {
   "cell_type": "code",
   "execution_count": 14,
   "metadata": {},
   "outputs": [
    {
     "data": {
      "text/html": [
       "<div>\n",
       "<style scoped>\n",
       "    .dataframe tbody tr th:only-of-type {\n",
       "        vertical-align: middle;\n",
       "    }\n",
       "\n",
       "    .dataframe tbody tr th {\n",
       "        vertical-align: top;\n",
       "    }\n",
       "\n",
       "    .dataframe thead th {\n",
       "        text-align: right;\n",
       "    }\n",
       "</style>\n",
       "<table border=\"1\" class=\"dataframe\">\n",
       "  <thead>\n",
       "    <tr style=\"text-align: right;\">\n",
       "      <th></th>\n",
       "      <th>Unnamed: 0</th>\n",
       "      <th>Datetime</th>\n",
       "      <th>Latitude</th>\n",
       "      <th>Longitude</th>\n",
       "      <th>Azimuth</th>\n",
       "      <th>Altitude</th>\n",
       "      <th>Dates</th>\n",
       "      <th>Time</th>\n",
       "    </tr>\n",
       "  </thead>\n",
       "  <tbody>\n",
       "    <tr>\n",
       "      <th>0</th>\n",
       "      <td>0</td>\n",
       "      <td>2023-01-01 00:00:00+07:00</td>\n",
       "      <td>-7.9271</td>\n",
       "      <td>112.6331</td>\n",
       "      <td>77.194752</td>\n",
       "      <td>-30.312057</td>\n",
       "      <td>2023-01-01</td>\n",
       "      <td>00:00:00</td>\n",
       "    </tr>\n",
       "    <tr>\n",
       "      <th>1</th>\n",
       "      <td>1</td>\n",
       "      <td>2023-01-01 00:05:00+07:00</td>\n",
       "      <td>-7.9271</td>\n",
       "      <td>112.6331</td>\n",
       "      <td>78.406839</td>\n",
       "      <td>-29.841815</td>\n",
       "      <td>2023-01-01</td>\n",
       "      <td>00:05:00</td>\n",
       "    </tr>\n",
       "    <tr>\n",
       "      <th>2</th>\n",
       "      <td>2</td>\n",
       "      <td>2023-01-01 00:10:00+07:00</td>\n",
       "      <td>-7.9271</td>\n",
       "      <td>112.6331</td>\n",
       "      <td>79.612169</td>\n",
       "      <td>-29.369533</td>\n",
       "      <td>2023-01-01</td>\n",
       "      <td>00:10:00</td>\n",
       "    </tr>\n",
       "    <tr>\n",
       "      <th>3</th>\n",
       "      <td>3</td>\n",
       "      <td>2023-01-01 00:15:00+07:00</td>\n",
       "      <td>-7.9271</td>\n",
       "      <td>112.6331</td>\n",
       "      <td>80.810971</td>\n",
       "      <td>-28.895433</td>\n",
       "      <td>2023-01-01</td>\n",
       "      <td>00:15:00</td>\n",
       "    </tr>\n",
       "    <tr>\n",
       "      <th>4</th>\n",
       "      <td>4</td>\n",
       "      <td>2023-01-01 00:20:00+07:00</td>\n",
       "      <td>-7.9271</td>\n",
       "      <td>112.6331</td>\n",
       "      <td>82.003476</td>\n",
       "      <td>-28.419729</td>\n",
       "      <td>2023-01-01</td>\n",
       "      <td>00:20:00</td>\n",
       "    </tr>\n",
       "  </tbody>\n",
       "</table>\n",
       "</div>"
      ],
      "text/plain": [
       "   Unnamed: 0                   Datetime  Latitude  Longitude    Azimuth  \\\n",
       "0           0  2023-01-01 00:00:00+07:00   -7.9271   112.6331  77.194752   \n",
       "1           1  2023-01-01 00:05:00+07:00   -7.9271   112.6331  78.406839   \n",
       "2           2  2023-01-01 00:10:00+07:00   -7.9271   112.6331  79.612169   \n",
       "3           3  2023-01-01 00:15:00+07:00   -7.9271   112.6331  80.810971   \n",
       "4           4  2023-01-01 00:20:00+07:00   -7.9271   112.6331  82.003476   \n",
       "\n",
       "    Altitude       Dates      Time  \n",
       "0 -30.312057  2023-01-01  00:00:00  \n",
       "1 -29.841815  2023-01-01  00:05:00  \n",
       "2 -29.369533  2023-01-01  00:10:00  \n",
       "3 -28.895433  2023-01-01  00:15:00  \n",
       "4 -28.419729  2023-01-01  00:20:00  "
      ]
     },
     "execution_count": 14,
     "metadata": {},
     "output_type": "execute_result"
    }
   ],
   "source": [
    "df = pd.read_csv(\"Data 2023 Januari Azimuth and Altitude.csv\")\n",
    "df['Dates'] = pd.to_datetime(df['Datetime']).dt.date\n",
    "df['Time'] = pd.to_datetime(df['Datetime']).dt.time\n",
    "\n"
   ]
  },
  {
   "cell_type": "code",
   "execution_count": null,
   "metadata": {},
   "outputs": [],
   "source": []
  }
 ],
 "metadata": {
  "kernelspec": {
   "display_name": "Python 3",
   "language": "python",
   "name": "python3"
  },
  "language_info": {
   "codemirror_mode": {
    "name": "ipython",
    "version": 3
   },
   "file_extension": ".py",
   "mimetype": "text/x-python",
   "name": "python",
   "nbconvert_exporter": "python",
   "pygments_lexer": "ipython3",
   "version": "3.10.11"
  }
 },
 "nbformat": 4,
 "nbformat_minor": 2
}
